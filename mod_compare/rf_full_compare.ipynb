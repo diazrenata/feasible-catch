{
 "cells": [
  {
   "cell_type": "code",
   "execution_count": 1,
   "id": "04f5c37d",
   "metadata": {},
   "outputs": [],
   "source": [
    "# for everything\n",
    "\n",
    "import matplotlib.pyplot as plt\n",
    "import numpy as np\n",
    "import pandas as pd\n",
    "import seaborn as sns\n",
    "\n",
    "# for random forest\n",
    "\n",
    "from sklearn.ensemble import RandomForestRegressor"
   ]
  },
  {
   "cell_type": "code",
   "execution_count": 2,
   "id": "ebda8fe9",
   "metadata": {},
   "outputs": [],
   "source": [
    "rawdat = pd.read_csv('../1500_samples.csv')\n",
    "len(rawdat)\n",
    "\n",
    "\n",
    "dat = rawdat.copy()\n",
    "dat.tail()\n",
    "\n",
    "\n",
    "dat = dat[(dat['n_hill1'] == 1000)]\n",
    "\n",
    "train_dat = dat.sample(frac = 0.7, replace = False, random_state = 0)\n",
    "\n",
    "test_dat = dat.drop(train_dat.index)\n",
    "\n",
    "train_X = train_dat[['richness', 'abundance']]\n",
    "train_Y = train_dat[['mean', 'sd']]\n",
    "\n",
    "\n",
    "test_X = test_dat[['richness', 'abundance']]\n",
    "test_Y = test_dat[['mean', 'sd']]"
   ]
  },
  {
   "cell_type": "code",
   "execution_count": 3,
   "id": "cba43992",
   "metadata": {},
   "outputs": [],
   "source": [
    "test_results = {}\n",
    "\n",
    "rf_mean = RandomForestRegressor()\n",
    "rf_mean.fit(train_X, train_Y['mean'])\n",
    "test_results['rf_mean_r2'] = rf_mean.score(test_X, test_Y['mean'])\n",
    "\n",
    "rf_sd = RandomForestRegressor()\n",
    "rf_sd.fit(train_X, train_Y['sd'])\n",
    "test_results['rf_sd_r2'] = rf_sd.score(test_X, test_Y['sd'])"
   ]
  },
  {
   "cell_type": "code",
   "execution_count": 4,
   "id": "31c91549",
   "metadata": {},
   "outputs": [
    {
     "data": {
      "text/plain": [
       "{'rf_mean_r2': 0.9987369882877134, 'rf_sd_r2': 0.9959755988965413}"
      ]
     },
     "execution_count": 4,
     "metadata": {},
     "output_type": "execute_result"
    }
   ],
   "source": [
    "test_results"
   ]
  },
  {
   "cell_type": "code",
   "execution_count": 5,
   "id": "7f72b016",
   "metadata": {},
   "outputs": [],
   "source": [
    "rf_test_preds = test_X.copy()\n",
    "rf_test_preds['rf_sd'] = rf_sd.predict(test_X)\n",
    "rf_test_preds['rf_mean'] = rf_mean.predict(test_X)"
   ]
  },
  {
   "cell_type": "code",
   "execution_count": 6,
   "id": "2f8181f8",
   "metadata": {},
   "outputs": [
    {
     "data": {
      "text/html": [
       "<div>\n",
       "<style scoped>\n",
       "    .dataframe tbody tr th:only-of-type {\n",
       "        vertical-align: middle;\n",
       "    }\n",
       "\n",
       "    .dataframe tbody tr th {\n",
       "        vertical-align: top;\n",
       "    }\n",
       "\n",
       "    .dataframe thead th {\n",
       "        text-align: right;\n",
       "    }\n",
       "</style>\n",
       "<table border=\"1\" class=\"dataframe\">\n",
       "  <thead>\n",
       "    <tr style=\"text-align: right;\">\n",
       "      <th></th>\n",
       "      <th>richness</th>\n",
       "      <th>abundance</th>\n",
       "      <th>rf_sd</th>\n",
       "      <th>rf_mean</th>\n",
       "    </tr>\n",
       "  </thead>\n",
       "  <tbody>\n",
       "    <tr>\n",
       "      <th>1452</th>\n",
       "      <td>196</td>\n",
       "      <td>12312</td>\n",
       "      <td>7.869987</td>\n",
       "      <td>108.736385</td>\n",
       "    </tr>\n",
       "    <tr>\n",
       "      <th>1454</th>\n",
       "      <td>197</td>\n",
       "      <td>3982</td>\n",
       "      <td>9.824170</td>\n",
       "      <td>86.968656</td>\n",
       "    </tr>\n",
       "    <tr>\n",
       "      <th>1455</th>\n",
       "      <td>197</td>\n",
       "      <td>7744</td>\n",
       "      <td>8.749775</td>\n",
       "      <td>101.131527</td>\n",
       "    </tr>\n",
       "    <tr>\n",
       "      <th>1462</th>\n",
       "      <td>198</td>\n",
       "      <td>3541</td>\n",
       "      <td>10.228613</td>\n",
       "      <td>86.110921</td>\n",
       "    </tr>\n",
       "    <tr>\n",
       "      <th>1471</th>\n",
       "      <td>200</td>\n",
       "      <td>11334</td>\n",
       "      <td>8.064898</td>\n",
       "      <td>107.181608</td>\n",
       "    </tr>\n",
       "  </tbody>\n",
       "</table>\n",
       "</div>"
      ],
      "text/plain": [
       "      richness  abundance      rf_sd     rf_mean\n",
       "1452       196      12312   7.869987  108.736385\n",
       "1454       197       3982   9.824170   86.968656\n",
       "1455       197       7744   8.749775  101.131527\n",
       "1462       198       3541  10.228613   86.110921\n",
       "1471       200      11334   8.064898  107.181608"
      ]
     },
     "execution_count": 6,
     "metadata": {},
     "output_type": "execute_result"
    }
   ],
   "source": [
    "rf_test_preds.tail()"
   ]
  },
  {
   "cell_type": "code",
   "execution_count": 7,
   "id": "c284669e",
   "metadata": {},
   "outputs": [],
   "source": [
    "# rf_test_preds.to_csv(\"random_forest_predictions.csv\")\n",
    "\n",
    "original_samples = rawdat = pd.read_csv('../1500_samples_raw.csv')\n",
    "original_samples = original_samples[[\"richness\", \"abundance\", \"hill1\"]]\n"
   ]
  },
  {
   "cell_type": "code",
   "execution_count": 81,
   "id": "2a47ee3d",
   "metadata": {},
   "outputs": [
    {
     "data": {
      "text/html": [
       "<div>\n",
       "<style scoped>\n",
       "    .dataframe tbody tr th:only-of-type {\n",
       "        vertical-align: middle;\n",
       "    }\n",
       "\n",
       "    .dataframe tbody tr th {\n",
       "        vertical-align: top;\n",
       "    }\n",
       "\n",
       "    .dataframe thead th {\n",
       "        text-align: right;\n",
       "    }\n",
       "</style>\n",
       "<table border=\"1\" class=\"dataframe\">\n",
       "  <thead>\n",
       "    <tr style=\"text-align: right;\">\n",
       "      <th></th>\n",
       "      <th>richness</th>\n",
       "      <th>abundance</th>\n",
       "      <th>hill1</th>\n",
       "    </tr>\n",
       "  </thead>\n",
       "  <tbody>\n",
       "    <tr>\n",
       "      <th>869000</th>\n",
       "      <td>196</td>\n",
       "      <td>12312</td>\n",
       "      <td>110.717455</td>\n",
       "    </tr>\n",
       "    <tr>\n",
       "      <th>869001</th>\n",
       "      <td>196</td>\n",
       "      <td>12312</td>\n",
       "      <td>94.882695</td>\n",
       "    </tr>\n",
       "    <tr>\n",
       "      <th>869002</th>\n",
       "      <td>196</td>\n",
       "      <td>12312</td>\n",
       "      <td>94.948767</td>\n",
       "    </tr>\n",
       "    <tr>\n",
       "      <th>869003</th>\n",
       "      <td>196</td>\n",
       "      <td>12312</td>\n",
       "      <td>102.913038</td>\n",
       "    </tr>\n",
       "    <tr>\n",
       "      <th>869004</th>\n",
       "      <td>196</td>\n",
       "      <td>12312</td>\n",
       "      <td>102.905682</td>\n",
       "    </tr>\n",
       "    <tr>\n",
       "      <th>...</th>\n",
       "      <td>...</td>\n",
       "      <td>...</td>\n",
       "      <td>...</td>\n",
       "    </tr>\n",
       "    <tr>\n",
       "      <th>869995</th>\n",
       "      <td>196</td>\n",
       "      <td>12312</td>\n",
       "      <td>104.679975</td>\n",
       "    </tr>\n",
       "    <tr>\n",
       "      <th>869996</th>\n",
       "      <td>196</td>\n",
       "      <td>12312</td>\n",
       "      <td>110.449493</td>\n",
       "    </tr>\n",
       "    <tr>\n",
       "      <th>869997</th>\n",
       "      <td>196</td>\n",
       "      <td>12312</td>\n",
       "      <td>102.124657</td>\n",
       "    </tr>\n",
       "    <tr>\n",
       "      <th>869998</th>\n",
       "      <td>196</td>\n",
       "      <td>12312</td>\n",
       "      <td>110.614897</td>\n",
       "    </tr>\n",
       "    <tr>\n",
       "      <th>869999</th>\n",
       "      <td>196</td>\n",
       "      <td>12312</td>\n",
       "      <td>93.696062</td>\n",
       "    </tr>\n",
       "  </tbody>\n",
       "</table>\n",
       "<p>1000 rows × 3 columns</p>\n",
       "</div>"
      ],
      "text/plain": [
       "        richness  abundance       hill1\n",
       "869000       196      12312  110.717455\n",
       "869001       196      12312   94.882695\n",
       "869002       196      12312   94.948767\n",
       "869003       196      12312  102.913038\n",
       "869004       196      12312  102.905682\n",
       "...          ...        ...         ...\n",
       "869995       196      12312  104.679975\n",
       "869996       196      12312  110.449493\n",
       "869997       196      12312  102.124657\n",
       "869998       196      12312  110.614897\n",
       "869999       196      12312   93.696062\n",
       "\n",
       "[1000 rows x 3 columns]"
      ]
     },
     "execution_count": 81,
     "metadata": {},
     "output_type": "execute_result"
    }
   ],
   "source": []
  },
  {
   "cell_type": "code",
   "execution_count": 184,
   "id": "5ef0cc17",
   "metadata": {},
   "outputs": [],
   "source": [
    "def draw_from_normal(mean, sd):\n",
    "    draws = np.random.default_rng().normal(mean, sd, 1000)\n",
    "    return(draws)\n",
    "    \n",
    "def sample_a_row(a_row_of_x, orig_samples):\n",
    "    s = a_row_of_x[1]\n",
    "    n = a_row_of_x[2]\n",
    "    draws = sorted(draw_from_normal(a_row_of_x[4], a_row_of_x[3]))\n",
    "    orig_samples_matched = orig_samples.loc[(orig_samples['richness'] == s) & (orig_samples['abundance'] ==n)]\n",
    "    x_samples = {\"sampled_hill\": draws,\n",
    "                \"richness\": np.repeat(s, 1000),\n",
    "                \"abundance\": np.repeat(n, 1000)}\n",
    "    x_samples = pd.DataFrame(data=x_samples)\n",
    "    x_samples[\"hill1\"] = (orig_samples_matched[['hill1']].values)\n",
    "    x_samples['hill1'] = sorted(x_samples['hill1'])\n",
    "\n",
    "    return(x_samples)"
   ]
  },
  {
   "cell_type": "code",
   "execution_count": 89,
   "id": "8c0a60f0",
   "metadata": {},
   "outputs": [
    {
     "data": {
      "text/html": [
       "<div>\n",
       "<style scoped>\n",
       "    .dataframe tbody tr th:only-of-type {\n",
       "        vertical-align: middle;\n",
       "    }\n",
       "\n",
       "    .dataframe tbody tr th {\n",
       "        vertical-align: top;\n",
       "    }\n",
       "\n",
       "    .dataframe thead th {\n",
       "        text-align: right;\n",
       "    }\n",
       "</style>\n",
       "<table border=\"1\" class=\"dataframe\">\n",
       "  <thead>\n",
       "    <tr style=\"text-align: right;\">\n",
       "      <th></th>\n",
       "      <th>richness</th>\n",
       "      <th>abundance</th>\n",
       "      <th>rf_sd</th>\n",
       "      <th>rf_mean</th>\n",
       "    </tr>\n",
       "  </thead>\n",
       "  <tbody>\n",
       "    <tr>\n",
       "      <th>0</th>\n",
       "      <td>3</td>\n",
       "      <td>3606</td>\n",
       "      <td>0.420373</td>\n",
       "      <td>2.357711</td>\n",
       "    </tr>\n",
       "    <tr>\n",
       "      <th>3</th>\n",
       "      <td>3</td>\n",
       "      <td>8083</td>\n",
       "      <td>0.415837</td>\n",
       "      <td>2.356915</td>\n",
       "    </tr>\n",
       "    <tr>\n",
       "      <th>7</th>\n",
       "      <td>3</td>\n",
       "      <td>11700</td>\n",
       "      <td>0.424099</td>\n",
       "      <td>2.345248</td>\n",
       "    </tr>\n",
       "    <tr>\n",
       "      <th>11</th>\n",
       "      <td>3</td>\n",
       "      <td>18166</td>\n",
       "      <td>0.427433</td>\n",
       "      <td>2.336939</td>\n",
       "    </tr>\n",
       "    <tr>\n",
       "      <th>23</th>\n",
       "      <td>5</td>\n",
       "      <td>8307</td>\n",
       "      <td>0.629639</td>\n",
       "      <td>3.646632</td>\n",
       "    </tr>\n",
       "  </tbody>\n",
       "</table>\n",
       "</div>"
      ],
      "text/plain": [
       "    richness  abundance     rf_sd   rf_mean\n",
       "0          3       3606  0.420373  2.357711\n",
       "3          3       8083  0.415837  2.356915\n",
       "7          3      11700  0.424099  2.345248\n",
       "11         3      18166  0.427433  2.336939\n",
       "23         5       8307  0.629639  3.646632"
      ]
     },
     "execution_count": 89,
     "metadata": {},
     "output_type": "execute_result"
    }
   ],
   "source": [
    "short_test_preds = rf_test_preds[:5]\n",
    "\n",
    "short_test_preds"
   ]
  },
  {
   "cell_type": "code",
   "execution_count": 185,
   "id": "1f1eb2d8",
   "metadata": {},
   "outputs": [],
   "source": [
    "sampled_df = pd.DataFrame()\n",
    "\n",
    "\n",
    "for row in rf_test_preds.itertuples():\n",
    "    sampled_df = pd.concat([sampled_df, (sample_a_row(row, orig_samples = original_samples.copy()))])\n",
    "    \n"
   ]
  },
  {
   "cell_type": "code",
   "execution_count": 186,
   "id": "6a90aeb6",
   "metadata": {
    "scrolled": false
   },
   "outputs": [
    {
     "data": {
      "text/html": [
       "<div>\n",
       "<style scoped>\n",
       "    .dataframe tbody tr th:only-of-type {\n",
       "        vertical-align: middle;\n",
       "    }\n",
       "\n",
       "    .dataframe tbody tr th {\n",
       "        vertical-align: top;\n",
       "    }\n",
       "\n",
       "    .dataframe thead th {\n",
       "        text-align: right;\n",
       "    }\n",
       "</style>\n",
       "<table border=\"1\" class=\"dataframe\">\n",
       "  <thead>\n",
       "    <tr style=\"text-align: right;\">\n",
       "      <th></th>\n",
       "      <th>sampled_hill</th>\n",
       "      <th>richness</th>\n",
       "      <th>abundance</th>\n",
       "      <th>hill1</th>\n",
       "    </tr>\n",
       "  </thead>\n",
       "  <tbody>\n",
       "    <tr>\n",
       "      <th>0</th>\n",
       "      <td>1.085190</td>\n",
       "      <td>3</td>\n",
       "      <td>3606</td>\n",
       "      <td>1.148415</td>\n",
       "    </tr>\n",
       "    <tr>\n",
       "      <th>1</th>\n",
       "      <td>1.155295</td>\n",
       "      <td>3</td>\n",
       "      <td>3606</td>\n",
       "      <td>1.154451</td>\n",
       "    </tr>\n",
       "    <tr>\n",
       "      <th>2</th>\n",
       "      <td>1.187851</td>\n",
       "      <td>3</td>\n",
       "      <td>3606</td>\n",
       "      <td>1.170528</td>\n",
       "    </tr>\n",
       "    <tr>\n",
       "      <th>3</th>\n",
       "      <td>1.226245</td>\n",
       "      <td>3</td>\n",
       "      <td>3606</td>\n",
       "      <td>1.176418</td>\n",
       "    </tr>\n",
       "    <tr>\n",
       "      <th>4</th>\n",
       "      <td>1.282522</td>\n",
       "      <td>3</td>\n",
       "      <td>3606</td>\n",
       "      <td>1.182063</td>\n",
       "    </tr>\n",
       "  </tbody>\n",
       "</table>\n",
       "</div>"
      ],
      "text/plain": [
       "   sampled_hill  richness  abundance     hill1\n",
       "0      1.085190         3       3606  1.148415\n",
       "1      1.155295         3       3606  1.154451\n",
       "2      1.187851         3       3606  1.170528\n",
       "3      1.226245         3       3606  1.176418\n",
       "4      1.282522         3       3606  1.182063"
      ]
     },
     "execution_count": 186,
     "metadata": {},
     "output_type": "execute_result"
    }
   ],
   "source": [
    "\n",
    "\n",
    "sampled_df.head()"
   ]
  },
  {
   "cell_type": "code",
   "execution_count": 183,
   "id": "d7e5d804",
   "metadata": {},
   "outputs": [
    {
     "data": {
      "text/plain": [
       "pandas.core.frame.DataFrame"
      ]
     },
     "execution_count": 183,
     "metadata": {},
     "output_type": "execute_result"
    }
   ],
   "source": [
    "type(sampled_df[['hill1']])"
   ]
  },
  {
   "cell_type": "code",
   "execution_count": 187,
   "id": "e15be14e",
   "metadata": {},
   "outputs": [],
   "source": [
    "sampled_df.to_csv(\"rf_and_fs_samples.csv\")"
   ]
  },
  {
   "cell_type": "code",
   "execution_count": null,
   "id": "cc5c9cc3",
   "metadata": {},
   "outputs": [],
   "source": []
  }
 ],
 "metadata": {
  "kernelspec": {
   "display_name": "Python 3 (ipykernel)",
   "language": "python",
   "name": "python3"
  },
  "language_info": {
   "codemirror_mode": {
    "name": "ipython",
    "version": 3
   },
   "file_extension": ".py",
   "mimetype": "text/x-python",
   "name": "python",
   "nbconvert_exporter": "python",
   "pygments_lexer": "ipython3",
   "version": "3.10.9"
  }
 },
 "nbformat": 4,
 "nbformat_minor": 5
}
