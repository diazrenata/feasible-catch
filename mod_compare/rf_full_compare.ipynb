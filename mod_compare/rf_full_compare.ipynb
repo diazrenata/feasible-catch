{
 "cells": [
  {
   "cell_type": "code",
   "execution_count": 1,
   "id": "04f5c37d",
   "metadata": {},
   "outputs": [],
   "source": [
    "# for everything\n",
    "\n",
    "import matplotlib.pyplot as plt\n",
    "import numpy as np\n",
    "import pandas as pd\n",
    "import seaborn as sns\n",
    "\n",
    "# for random forest\n",
    "\n",
    "from sklearn.ensemble import RandomForestRegressor"
   ]
  },
  {
   "cell_type": "code",
   "execution_count": 2,
   "id": "ebda8fe9",
   "metadata": {},
   "outputs": [],
   "source": [
    "rawdat = pd.read_csv('../1500_samples.csv')\n",
    "len(rawdat)\n",
    "\n",
    "\n",
    "dat = rawdat.copy()\n",
    "dat.tail()\n",
    "\n",
    "\n",
    "dat = dat[(dat['n_hill1'] == 1000)]\n",
    "\n",
    "train_dat = dat.sample(frac = 0.7, replace = False, random_state = 0)\n",
    "\n",
    "test_dat = dat.drop(train_dat.index)\n",
    "\n",
    "train_X = train_dat[['richness', 'abundance']]\n",
    "train_Y = train_dat[['mean', 'sd']]\n",
    "\n",
    "\n",
    "test_X = test_dat[['richness', 'abundance']]\n",
    "test_Y = test_dat[['mean', 'sd']]"
   ]
  },
  {
   "cell_type": "code",
   "execution_count": 3,
   "id": "cba43992",
   "metadata": {},
   "outputs": [],
   "source": [
    "test_results = {}\n",
    "\n",
    "rf_mean = RandomForestRegressor()\n",
    "rf_mean.fit(train_X, train_Y['mean'])\n",
    "test_results['rf_mean_r2'] = rf_mean.score(test_X, test_Y['mean'])\n",
    "\n",
    "rf_sd = RandomForestRegressor()\n",
    "rf_sd.fit(train_X, train_Y['sd'])\n",
    "test_results['rf_sd_r2'] = rf_sd.score(test_X, test_Y['sd'])"
   ]
  },
  {
   "cell_type": "code",
   "execution_count": 4,
   "id": "31c91549",
   "metadata": {},
   "outputs": [
    {
     "data": {
      "text/plain": [
       "{'rf_mean_r2': 0.9985394042134859, 'rf_sd_r2': 0.9958188181313422}"
      ]
     },
     "execution_count": 4,
     "metadata": {},
     "output_type": "execute_result"
    }
   ],
   "source": [
    "test_results"
   ]
  },
  {
   "cell_type": "code",
   "execution_count": null,
   "id": "7f72b016",
   "metadata": {},
   "outputs": [],
   "source": []
  }
 ],
 "metadata": {
  "kernelspec": {
   "display_name": "Python 3 (ipykernel)",
   "language": "python",
   "name": "python3"
  },
  "language_info": {
   "codemirror_mode": {
    "name": "ipython",
    "version": 3
   },
   "file_extension": ".py",
   "mimetype": "text/x-python",
   "name": "python",
   "nbconvert_exporter": "python",
   "pygments_lexer": "ipython3",
   "version": "3.10.9"
  }
 },
 "nbformat": 4,
 "nbformat_minor": 5
}
