{
 "cells": [
  {
   "cell_type": "markdown",
   "id": "fbe5b0cf",
   "metadata": {},
   "source": [
    "Working through the TensorFlow module for neural net regression: https://www.tensorflow.org/tutorials/keras/regression\n",
    "\n",
    "(with the ultimate intention of using it on the feasible set data)\n",
    "\n",
    "To run tensorflow in this notebook remember to change the kernel to `tf2`. I set up this kernel using this tutorial: https://priyanka-dandale.medium.com/how-to-create-a-tensorflow-environment-in-jupyter-notebook-and-use-it-e3815002c031\n",
    "\n"
   ]
  },
  {
   "cell_type": "markdown",
   "id": "ec9ab7db",
   "metadata": {},
   "source": [
    "Had to run these (in seperate cells) because I think this kernel does not _come_ with the packages installed:\n",
    "\n",
    "`pip install matplotlib`\n",
    "\n",
    "`pip install pandas`\n",
    "\n",
    "`pip install -q seaborn`"
   ]
  },
  {
   "cell_type": "code",
   "execution_count": 8,
   "id": "aaa9506c",
   "metadata": {},
   "outputs": [],
   "source": [
    "import matplotlib.pyplot as plt\n",
    "import numpy as np\n",
    "import pandas as pd\n",
    "import seaborn as sns"
   ]
  },
  {
   "cell_type": "code",
   "execution_count": 9,
   "id": "57a2a5df",
   "metadata": {},
   "outputs": [],
   "source": [
    "np.set_printoptions(precision = 3, suppress = True)"
   ]
  },
  {
   "cell_type": "code",
   "execution_count": 10,
   "id": "fa11978b",
   "metadata": {},
   "outputs": [
    {
     "name": "stderr",
     "output_type": "stream",
     "text": [
      "2023-04-11 10:24:21.746760: I tensorflow/core/platform/cpu_feature_guard.cc:193] This TensorFlow binary is optimized with oneAPI Deep Neural Network Library (oneDNN) to use the following CPU instructions in performance-critical operations:  SSE4.1 SSE4.2\n",
      "To enable them in other operations, rebuild TensorFlow with the appropriate compiler flags.\n"
     ]
    }
   ],
   "source": [
    "import tensorflow as tf"
   ]
  },
  {
   "cell_type": "markdown",
   "id": "ed302870",
   "metadata": {},
   "source": [
    "^^ produced the following:\n",
    "\n",
    "```\n",
    "2023-04-11 10:24:21.746760: I tensorflow/core/platform/cpu_feature_guard.cc:193] This TensorFlow binary is optimized with oneAPI Deep Neural Network Library (oneDNN) to use the following CPU instructions in performance-critical operations:  SSE4.1 SSE4.2\n",
    "To enable them in other operations, rebuild TensorFlow with the appropriate compiler flags.\n",
    "```\n",
    "\n",
    "Proceeding anyway."
   ]
  },
  {
   "cell_type": "code",
   "execution_count": 11,
   "id": "af9b3805",
   "metadata": {},
   "outputs": [],
   "source": [
    "from tensorflow import keras"
   ]
  },
  {
   "cell_type": "code",
   "execution_count": 12,
   "id": "cdd8f74e",
   "metadata": {},
   "outputs": [],
   "source": [
    "from tensorflow.keras import layers"
   ]
  },
  {
   "cell_type": "code",
   "execution_count": 13,
   "id": "c00dfda8",
   "metadata": {
    "scrolled": true
   },
   "outputs": [
    {
     "name": "stdout",
     "output_type": "stream",
     "text": [
      "2.11.1\n"
     ]
    }
   ],
   "source": [
    "print(tf.__version__)"
   ]
  },
  {
   "cell_type": "code",
   "execution_count": null,
   "id": "14b0f10e",
   "metadata": {},
   "outputs": [],
   "source": []
  }
 ],
 "metadata": {
  "kernelspec": {
   "display_name": "tf2",
   "language": "python",
   "name": "tf2"
  },
  "language_info": {
   "codemirror_mode": {
    "name": "ipython",
    "version": 3
   },
   "file_extension": ".py",
   "mimetype": "text/x-python",
   "name": "python",
   "nbconvert_exporter": "python",
   "pygments_lexer": "ipython3",
   "version": "3.10.10"
  }
 },
 "nbformat": 4,
 "nbformat_minor": 5
}
