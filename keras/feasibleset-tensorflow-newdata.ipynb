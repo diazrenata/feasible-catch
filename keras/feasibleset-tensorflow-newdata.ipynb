{
 "cells": [
  {
   "cell_type": "code",
   "execution_count": 1,
   "id": "e79e39c9",
   "metadata": {},
   "outputs": [],
   "source": [
    "import matplotlib.pyplot as plt\n",
    "import numpy as np\n",
    "import pandas as pd\n",
    "import seaborn as sns"
   ]
  },
  {
   "cell_type": "code",
   "execution_count": 2,
   "id": "03f92267",
   "metadata": {},
   "outputs": [],
   "source": [
    "np.set_printoptions(precision = 3, suppress = True)"
   ]
  },
  {
   "cell_type": "code",
   "execution_count": 3,
   "id": "8fb9045e",
   "metadata": {},
   "outputs": [
    {
     "name": "stderr",
     "output_type": "stream",
     "text": [
      "2023-04-12 10:47:34.161549: I tensorflow/core/platform/cpu_feature_guard.cc:193] This TensorFlow binary is optimized with oneAPI Deep Neural Network Library (oneDNN) to use the following CPU instructions in performance-critical operations:  SSE4.1 SSE4.2\n",
      "To enable them in other operations, rebuild TensorFlow with the appropriate compiler flags.\n"
     ]
    }
   ],
   "source": [
    "import tensorflow as tf"
   ]
  },
  {
   "cell_type": "code",
   "execution_count": 4,
   "id": "17486ecb",
   "metadata": {},
   "outputs": [],
   "source": [
    "from tensorflow import keras\n",
    "from tensorflow.keras import layers"
   ]
  },
  {
   "cell_type": "code",
   "execution_count": 5,
   "id": "d943bc5a",
   "metadata": {},
   "outputs": [],
   "source": [
    "url = 'https://raw.githubusercontent.com/diazrenata/feasible-catch/main/new_samples.csv'\n",
    "\n",
    "\n",
    "raw_dataset = pd.read_csv(url)"
   ]
  },
  {
   "cell_type": "code",
   "execution_count": 6,
   "id": "bec3fada",
   "metadata": {},
   "outputs": [
    {
     "data": {
      "text/html": [
       "<div>\n",
       "<style scoped>\n",
       "    .dataframe tbody tr th:only-of-type {\n",
       "        vertical-align: middle;\n",
       "    }\n",
       "\n",
       "    .dataframe tbody tr th {\n",
       "        vertical-align: top;\n",
       "    }\n",
       "\n",
       "    .dataframe thead th {\n",
       "        text-align: right;\n",
       "    }\n",
       "</style>\n",
       "<table border=\"1\" class=\"dataframe\">\n",
       "  <thead>\n",
       "    <tr style=\"text-align: right;\">\n",
       "      <th></th>\n",
       "      <th>richness</th>\n",
       "      <th>abundance</th>\n",
       "      <th>mean</th>\n",
       "      <th>sd</th>\n",
       "    </tr>\n",
       "  </thead>\n",
       "  <tbody>\n",
       "    <tr>\n",
       "      <th>485</th>\n",
       "      <td>198</td>\n",
       "      <td>9419</td>\n",
       "      <td>105.090446</td>\n",
       "      <td>8.433814</td>\n",
       "    </tr>\n",
       "    <tr>\n",
       "      <th>486</th>\n",
       "      <td>198</td>\n",
       "      <td>14445</td>\n",
       "      <td>111.367928</td>\n",
       "      <td>7.437118</td>\n",
       "    </tr>\n",
       "    <tr>\n",
       "      <th>487</th>\n",
       "      <td>199</td>\n",
       "      <td>1610</td>\n",
       "      <td>74.502983</td>\n",
       "      <td>11.282383</td>\n",
       "    </tr>\n",
       "    <tr>\n",
       "      <th>488</th>\n",
       "      <td>200</td>\n",
       "      <td>7366</td>\n",
       "      <td>100.945907</td>\n",
       "      <td>9.727507</td>\n",
       "    </tr>\n",
       "    <tr>\n",
       "      <th>489</th>\n",
       "      <td>200</td>\n",
       "      <td>18176</td>\n",
       "      <td>115.714174</td>\n",
       "      <td>7.305470</td>\n",
       "    </tr>\n",
       "  </tbody>\n",
       "</table>\n",
       "</div>"
      ],
      "text/plain": [
       "     richness  abundance        mean         sd\n",
       "485       198       9419  105.090446   8.433814\n",
       "486       198      14445  111.367928   7.437118\n",
       "487       199       1610   74.502983  11.282383\n",
       "488       200       7366  100.945907   9.727507\n",
       "489       200      18176  115.714174   7.305470"
      ]
     },
     "execution_count": 6,
     "metadata": {},
     "output_type": "execute_result"
    }
   ],
   "source": [
    "raw_dataset.tail()"
   ]
  },
  {
   "cell_type": "code",
   "execution_count": 7,
   "id": "ef96925f",
   "metadata": {},
   "outputs": [],
   "source": [
    "dataset = raw_dataset.copy()\n",
    "\n",
    "dataset.isna().sum()\n",
    "\n",
    "dataset = dataset.drop(columns ='sd')"
   ]
  },
  {
   "cell_type": "code",
   "execution_count": 8,
   "id": "129a8e0d",
   "metadata": {},
   "outputs": [],
   "source": [
    "train_dataset = dataset.sample(frac = 0.8, random_state = 0)\n",
    "\n",
    "test_dataset = dataset.drop(train_dataset.index)"
   ]
  },
  {
   "cell_type": "code",
   "execution_count": 9,
   "id": "aea816e4",
   "metadata": {},
   "outputs": [
    {
     "data": {
      "text/html": [
       "<div>\n",
       "<style scoped>\n",
       "    .dataframe tbody tr th:only-of-type {\n",
       "        vertical-align: middle;\n",
       "    }\n",
       "\n",
       "    .dataframe tbody tr th {\n",
       "        vertical-align: top;\n",
       "    }\n",
       "\n",
       "    .dataframe thead th {\n",
       "        text-align: right;\n",
       "    }\n",
       "</style>\n",
       "<table border=\"1\" class=\"dataframe\">\n",
       "  <thead>\n",
       "    <tr style=\"text-align: right;\">\n",
       "      <th></th>\n",
       "      <th>richness</th>\n",
       "      <th>abundance</th>\n",
       "      <th>mean</th>\n",
       "    </tr>\n",
       "  </thead>\n",
       "  <tbody>\n",
       "    <tr>\n",
       "      <th>238</th>\n",
       "      <td>100</td>\n",
       "      <td>2985</td>\n",
       "      <td>56.102459</td>\n",
       "    </tr>\n",
       "    <tr>\n",
       "      <th>179</th>\n",
       "      <td>78</td>\n",
       "      <td>14706</td>\n",
       "      <td>50.212682</td>\n",
       "    </tr>\n",
       "    <tr>\n",
       "      <th>437</th>\n",
       "      <td>175</td>\n",
       "      <td>12842</td>\n",
       "      <td>100.731785</td>\n",
       "    </tr>\n",
       "    <tr>\n",
       "      <th>325</th>\n",
       "      <td>133</td>\n",
       "      <td>552</td>\n",
       "      <td>56.182806</td>\n",
       "    </tr>\n",
       "    <tr>\n",
       "      <th>15</th>\n",
       "      <td>10</td>\n",
       "      <td>556</td>\n",
       "      <td>6.973211</td>\n",
       "    </tr>\n",
       "  </tbody>\n",
       "</table>\n",
       "</div>"
      ],
      "text/plain": [
       "     richness  abundance        mean\n",
       "238       100       2985   56.102459\n",
       "179        78      14706   50.212682\n",
       "437       175      12842  100.731785\n",
       "325       133        552   56.182806\n",
       "15         10        556    6.973211"
      ]
     },
     "execution_count": 9,
     "metadata": {},
     "output_type": "execute_result"
    }
   ],
   "source": [
    "train_dataset.head()"
   ]
  },
  {
   "cell_type": "code",
   "execution_count": 10,
   "id": "d45983e1",
   "metadata": {},
   "outputs": [
    {
     "data": {
      "text/html": [
       "<div>\n",
       "<style scoped>\n",
       "    .dataframe tbody tr th:only-of-type {\n",
       "        vertical-align: middle;\n",
       "    }\n",
       "\n",
       "    .dataframe tbody tr th {\n",
       "        vertical-align: top;\n",
       "    }\n",
       "\n",
       "    .dataframe thead th {\n",
       "        text-align: right;\n",
       "    }\n",
       "</style>\n",
       "<table border=\"1\" class=\"dataframe\">\n",
       "  <thead>\n",
       "    <tr style=\"text-align: right;\">\n",
       "      <th></th>\n",
       "      <th>richness</th>\n",
       "      <th>abundance</th>\n",
       "      <th>mean</th>\n",
       "    </tr>\n",
       "  </thead>\n",
       "  <tbody>\n",
       "    <tr>\n",
       "      <th>9</th>\n",
       "      <td>7</td>\n",
       "      <td>3444</td>\n",
       "      <td>5.005612</td>\n",
       "    </tr>\n",
       "    <tr>\n",
       "      <th>25</th>\n",
       "      <td>14</td>\n",
       "      <td>6045</td>\n",
       "      <td>9.584131</td>\n",
       "    </tr>\n",
       "    <tr>\n",
       "      <th>28</th>\n",
       "      <td>15</td>\n",
       "      <td>8132</td>\n",
       "      <td>10.285595</td>\n",
       "    </tr>\n",
       "    <tr>\n",
       "      <th>31</th>\n",
       "      <td>17</td>\n",
       "      <td>12522</td>\n",
       "      <td>11.536574</td>\n",
       "    </tr>\n",
       "    <tr>\n",
       "      <th>32</th>\n",
       "      <td>17</td>\n",
       "      <td>17120</td>\n",
       "      <td>11.574333</td>\n",
       "    </tr>\n",
       "  </tbody>\n",
       "</table>\n",
       "</div>"
      ],
      "text/plain": [
       "    richness  abundance       mean\n",
       "9          7       3444   5.005612\n",
       "25        14       6045   9.584131\n",
       "28        15       8132  10.285595\n",
       "31        17      12522  11.536574\n",
       "32        17      17120  11.574333"
      ]
     },
     "execution_count": 10,
     "metadata": {},
     "output_type": "execute_result"
    }
   ],
   "source": [
    "test_dataset.head()"
   ]
  },
  {
   "cell_type": "code",
   "execution_count": 11,
   "id": "66d6caa4",
   "metadata": {},
   "outputs": [
    {
     "data": {
      "text/plain": [
       "<seaborn.axisgrid.PairGrid at 0x184168d90>"
      ]
     },
     "execution_count": 11,
     "metadata": {},
     "output_type": "execute_result"
    },
    {
     "data": {
      "image/png": "[encoded data removed]",
      "text/plain": [
       "<Figure size 360x360 with 6 Axes>"
      ]
     },
     "metadata": {
      "needs_background": "light"
     },
     "output_type": "display_data"
    }
   ],
   "source": [
    "sns.pairplot(train_dataset[['richness', 'abundance']], diag_kind = 'kde')"
   ]
  },
  {
   "cell_type": "markdown",
   "id": "af7b5256",
   "metadata": {},
   "source": [
    "^^ this is weird partially beacuse of the distribution of sampled space"
   ]
  },
  {
   "cell_type": "code",
   "execution_count": 12,
   "id": "c3563a2f",
   "metadata": {},
   "outputs": [
    {
     "data": {
      "text/html": [
       "<div>\n",
       "<style scoped>\n",
       "    .dataframe tbody tr th:only-of-type {\n",
       "        vertical-align: middle;\n",
       "    }\n",
       "\n",
       "    .dataframe tbody tr th {\n",
       "        vertical-align: top;\n",
       "    }\n",
       "\n",
       "    .dataframe thead th {\n",
       "        text-align: right;\n",
       "    }\n",
       "</style>\n",
       "<table border=\"1\" class=\"dataframe\">\n",
       "  <thead>\n",
       "    <tr style=\"text-align: right;\">\n",
       "      <th></th>\n",
       "      <th>count</th>\n",
       "      <th>mean</th>\n",
       "      <th>std</th>\n",
       "      <th>min</th>\n",
       "      <th>25%</th>\n",
       "      <th>50%</th>\n",
       "      <th>75%</th>\n",
       "      <th>max</th>\n",
       "    </tr>\n",
       "  </thead>\n",
       "  <tbody>\n",
       "    <tr>\n",
       "      <th>richness</th>\n",
       "      <td>392.0</td>\n",
       "      <td>100.173469</td>\n",
       "      <td>55.111610</td>\n",
       "      <td>3.000000</td>\n",
       "      <td>54.75000</td>\n",
       "      <td>100.000000</td>\n",
       "      <td>149.00000</td>\n",
       "      <td>200.000000</td>\n",
       "    </tr>\n",
       "    <tr>\n",
       "      <th>abundance</th>\n",
       "      <td>392.0</td>\n",
       "      <td>9958.250000</td>\n",
       "      <td>5670.493349</td>\n",
       "      <td>66.000000</td>\n",
       "      <td>5031.50000</td>\n",
       "      <td>9795.500000</td>\n",
       "      <td>14827.00000</td>\n",
       "      <td>19882.000000</td>\n",
       "    </tr>\n",
       "    <tr>\n",
       "      <th>mean</th>\n",
       "      <td>392.0</td>\n",
       "      <td>58.083342</td>\n",
       "      <td>29.718229</td>\n",
       "      <td>2.315313</td>\n",
       "      <td>34.76038</td>\n",
       "      <td>59.961183</td>\n",
       "      <td>80.06088</td>\n",
       "      <td>152.995833</td>\n",
       "    </tr>\n",
       "  </tbody>\n",
       "</table>\n",
       "</div>"
      ],
      "text/plain": [
       "           count         mean          std        min         25%   \n",
       "richness   392.0   100.173469    55.111610   3.000000    54.75000  \\\n",
       "abundance  392.0  9958.250000  5670.493349  66.000000  5031.50000   \n",
       "mean       392.0    58.083342    29.718229   2.315313    34.76038   \n",
       "\n",
       "                   50%          75%           max  \n",
       "richness    100.000000    149.00000    200.000000  \n",
       "abundance  9795.500000  14827.00000  19882.000000  \n",
       "mean         59.961183     80.06088    152.995833  "
      ]
     },
     "execution_count": 12,
     "metadata": {},
     "output_type": "execute_result"
    }
   ],
   "source": [
    "train_dataset.describe().transpose()\n"
   ]
  },
  {
   "cell_type": "code",
   "execution_count": 13,
   "id": "13220097",
   "metadata": {},
   "outputs": [],
   "source": [
    "train_features = train_dataset.copy()\n",
    "test_features = test_dataset.copy()\n",
    "\n",
    "train_labels = train_features.pop(\"mean\")\n",
    "test_labels = test_features.pop(\"mean\")"
   ]
  },
  {
   "cell_type": "markdown",
   "id": "36658c0c",
   "metadata": {},
   "source": [
    "Here the tutorial normalizes the features. It's suggested this is _important_ because of the model weighting. I instinctively hesitate, so this may be a point to test further. "
   ]
  },
  {
   "cell_type": "code",
   "execution_count": 14,
   "id": "3a96402e",
   "metadata": {},
   "outputs": [],
   "source": [
    "normalizer = tf.keras.layers.Normalization(axis = -1)"
   ]
  },
  {
   "cell_type": "code",
   "execution_count": 15,
   "id": "395b428c",
   "metadata": {
    "scrolled": true
   },
   "outputs": [
    {
     "name": "stderr",
     "output_type": "stream",
     "text": [
      "2023-04-12 10:47:36.961743: I tensorflow/core/platform/cpu_feature_guard.cc:193] This TensorFlow binary is optimized with oneAPI Deep Neural Network Library (oneDNN) to use the following CPU instructions in performance-critical operations:  SSE4.1 SSE4.2\n",
      "To enable them in other operations, rebuild TensorFlow with the appropriate compiler flags.\n"
     ]
    }
   ],
   "source": [
    "normalizer.adapt(np.array(train_features))"
   ]
  },
  {
   "cell_type": "code",
   "execution_count": 16,
   "id": "829aab49",
   "metadata": {},
   "outputs": [
    {
     "name": "stdout",
     "output_type": "stream",
     "text": [
      "[[ 100.173 9958.251]]\n"
     ]
    }
   ],
   "source": [
    "print(normalizer.mean.numpy())"
   ]
  },
  {
   "cell_type": "code",
   "execution_count": 17,
   "id": "60c6fde7",
   "metadata": {},
   "outputs": [
    {
     "name": "stdout",
     "output_type": "stream",
     "text": [
      "First example: [[ 100 2985]]\n",
      "\n",
      "Normalized [[-0.   -1.23]]\n"
     ]
    }
   ],
   "source": [
    "first = np.array(train_features[:1])\n",
    "\n",
    "with np.printoptions(precision=2, suppress=True):\n",
    "    print('First example:', first)\n",
    "    print() \n",
    "    print('Normalized', normalizer(first).numpy())"
   ]
  },
  {
   "cell_type": "markdown",
   "id": "26e7bf49",
   "metadata": {},
   "source": [
    "Sidebar - yeah, this normalization is going to be weird as the sampled sxn space changes."
   ]
  },
  {
   "cell_type": "markdown",
   "id": "9551aec9",
   "metadata": {},
   "source": [
    "## Linear regression"
   ]
  },
  {
   "cell_type": "code",
   "execution_count": 18,
   "id": "6afb1d3e",
   "metadata": {},
   "outputs": [],
   "source": [
    "rich = np.array(train_features['richness'])"
   ]
  },
  {
   "cell_type": "markdown",
   "id": "192d964c",
   "metadata": {},
   "source": [
    "So this looks to me like normalization is happening independent of the earlier normalization step..."
   ]
  },
  {
   "cell_type": "code",
   "execution_count": 19,
   "id": "a8dc8df1",
   "metadata": {},
   "outputs": [],
   "source": [
    "rich_normalizer = layers.Normalization(input_shape = [1, ], axis = None)"
   ]
  },
  {
   "cell_type": "code",
   "execution_count": 20,
   "id": "4412b919",
   "metadata": {},
   "outputs": [],
   "source": [
    "rich_normalizer.adapt(rich)"
   ]
  },
  {
   "cell_type": "markdown",
   "id": "f393ae65",
   "metadata": {},
   "source": [
    "Building a \"sequential\" model:"
   ]
  },
  {
   "cell_type": "code",
   "execution_count": 21,
   "id": "60027ab0",
   "metadata": {},
   "outputs": [],
   "source": [
    "rich_model = tf.keras.Sequential([\n",
    "    rich_normalizer,\n",
    "    layers.Dense(units = 1)\n",
    "])"
   ]
  },
  {
   "cell_type": "code",
   "execution_count": 22,
   "id": "88b0aeed",
   "metadata": {},
   "outputs": [
    {
     "name": "stdout",
     "output_type": "stream",
     "text": [
      "Model: \"sequential\"\n",
      "_________________________________________________________________\n",
      " Layer (type)                Output Shape              Param #   \n",
      "=================================================================\n",
      " normalization_1 (Normalizat  (None, 1)                3         \n",
      " ion)                                                            \n",
      "                                                                 \n",
      " dense (Dense)               (None, 1)                 2         \n",
      "                                                                 \n",
      "=================================================================\n",
      "Total params: 5\n",
      "Trainable params: 2\n",
      "Non-trainable params: 3\n",
      "_________________________________________________________________\n"
     ]
    }
   ],
   "source": [
    "rich_model.summary()"
   ]
  },
  {
   "cell_type": "code",
   "execution_count": 23,
   "id": "2f3ea5cf",
   "metadata": {},
   "outputs": [
    {
     "name": "stdout",
     "output_type": "stream",
     "text": [
      "1/1 [==============================] - 0s 46ms/step\n"
     ]
    },
    {
     "data": {
      "text/plain": [
       "array([[ 0.003],\n",
       "       [ 0.398],\n",
       "       [-1.343],\n",
       "       [-0.589],\n",
       "       [ 1.618],\n",
       "       [ 1.205],\n",
       "       [-0.786],\n",
       "       [-1.253],\n",
       "       [ 1.582],\n",
       "       [-1.468]], dtype=float32)"
      ]
     },
     "execution_count": 23,
     "metadata": {},
     "output_type": "execute_result"
    }
   ],
   "source": [
    " rich_model.predict(rich[:10])"
   ]
  },
  {
   "cell_type": "code",
   "execution_count": 24,
   "id": "376b5211",
   "metadata": {},
   "outputs": [],
   "source": [
    "rich_model.compile(\n",
    "    optimizer=tf.keras.optimizers.Adam(learning_rate = 0.1),\n",
    "    loss = 'mean_absolute_error')"
   ]
  },
  {
   "cell_type": "code",
   "execution_count": 25,
   "id": "ec5d1d9c",
   "metadata": {},
   "outputs": [
    {
     "name": "stdout",
     "output_type": "stream",
     "text": [
      "CPU times: user 11.1 s, sys: 851 ms, total: 12 s\n",
      "Wall time: 10.2 s\n"
     ]
    }
   ],
   "source": [
    "%%time\n",
    "history = rich_model.fit(\n",
    "    train_features['richness'],\n",
    "    train_labels,\n",
    "    epochs = 500,\n",
    "    verbose = 0,\n",
    "    validation_split = .2)"
   ]
  },
  {
   "cell_type": "code",
   "execution_count": 26,
   "id": "67517300",
   "metadata": {},
   "outputs": [
    {
     "data": {
      "text/html": [
       "<div>\n",
       "<style scoped>\n",
       "    .dataframe tbody tr th:only-of-type {\n",
       "        vertical-align: middle;\n",
       "    }\n",
       "\n",
       "    .dataframe tbody tr th {\n",
       "        vertical-align: top;\n",
       "    }\n",
       "\n",
       "    .dataframe thead th {\n",
       "        text-align: right;\n",
       "    }\n",
       "</style>\n",
       "<table border=\"1\" class=\"dataframe\">\n",
       "  <thead>\n",
       "    <tr style=\"text-align: right;\">\n",
       "      <th></th>\n",
       "      <th>loss</th>\n",
       "      <th>val_loss</th>\n",
       "      <th>epoch</th>\n",
       "    </tr>\n",
       "  </thead>\n",
       "  <tbody>\n",
       "    <tr>\n",
       "      <th>495</th>\n",
       "      <td>4.432479</td>\n",
       "      <td>4.272653</td>\n",
       "      <td>495</td>\n",
       "    </tr>\n",
       "    <tr>\n",
       "      <th>496</th>\n",
       "      <td>4.430744</td>\n",
       "      <td>4.294777</td>\n",
       "      <td>496</td>\n",
       "    </tr>\n",
       "    <tr>\n",
       "      <th>497</th>\n",
       "      <td>4.425067</td>\n",
       "      <td>4.286528</td>\n",
       "      <td>497</td>\n",
       "    </tr>\n",
       "    <tr>\n",
       "      <th>498</th>\n",
       "      <td>4.422795</td>\n",
       "      <td>4.293056</td>\n",
       "      <td>498</td>\n",
       "    </tr>\n",
       "    <tr>\n",
       "      <th>499</th>\n",
       "      <td>4.424521</td>\n",
       "      <td>4.299078</td>\n",
       "      <td>499</td>\n",
       "    </tr>\n",
       "  </tbody>\n",
       "</table>\n",
       "</div>"
      ],
      "text/plain": [
       "         loss  val_loss  epoch\n",
       "495  4.432479  4.272653    495\n",
       "496  4.430744  4.294777    496\n",
       "497  4.425067  4.286528    497\n",
       "498  4.422795  4.293056    498\n",
       "499  4.424521  4.299078    499"
      ]
     },
     "execution_count": 26,
     "metadata": {},
     "output_type": "execute_result"
    }
   ],
   "source": [
    "hist = pd.DataFrame(history.history)\n",
    "hist['epoch'] = history.epoch\n",
    "hist.tail()"
   ]
  },
  {
   "cell_type": "code",
   "execution_count": 27,
   "id": "d4fc3f37",
   "metadata": {},
   "outputs": [
    {
     "data": {
      "image/png": "[encoded data removed]",
      "text/plain": [
       "<Figure size 432x288 with 1 Axes>"
      ]
     },
     "metadata": {
      "needs_background": "light"
     },
     "output_type": "display_data"
    }
   ],
   "source": [
    "def plot_loss(history):\n",
    "  plt.plot(history.history['loss'], label='loss')\n",
    "  plt.plot(history.history['val_loss'], label='val_loss')\n",
    "  plt.xlabel('Epoch')\n",
    "  plt.ylabel('Error [mean]')\n",
    "  plt.legend()\n",
    "  plt.grid(True)\n",
    "plot_loss(history)\n"
   ]
  },
  {
   "cell_type": "code",
   "execution_count": 28,
   "id": "afb9cc11",
   "metadata": {},
   "outputs": [],
   "source": [
    "test_results = {}\n",
    "\n",
    "test_results['rich_model'] = rich_model.evaluate(\n",
    "    test_features['richness'],\n",
    "    test_labels, verbose = 0)"
   ]
  },
  {
   "cell_type": "code",
   "execution_count": 29,
   "id": "70a5cf85",
   "metadata": {},
   "outputs": [
    {
     "name": "stdout",
     "output_type": "stream",
     "text": [
      "8/8 [==============================] - 0s 559us/step\n"
     ]
    }
   ],
   "source": [
    "x = tf.linspace(0.0, 250, 251)\n",
    "y = rich_model.predict(x)\n"
   ]
  },
  {
   "cell_type": "code",
   "execution_count": 30,
   "id": "41a0f668",
   "metadata": {},
   "outputs": [
    {
     "data": {
      "image/png": "[encoded data removed]",
      "text/plain": [
       "<Figure size 432x288 with 1 Axes>"
      ]
     },
     "metadata": {
      "needs_background": "light"
     },
     "output_type": "display_data"
    }
   ],
   "source": [
    "def plot_rich(x, y):\n",
    "  plt.scatter(train_features['richness'], train_labels, label='Data')\n",
    "  plt.plot(x, y, color='k', label='Predictions')\n",
    "  plt.xlabel('richness')\n",
    "  plt.ylabel('mean')\n",
    "  plt.legend()\n",
    "plot_rich(x, y)\n"
   ]
  },
  {
   "cell_type": "markdown",
   "id": "252059a7",
   "metadata": {},
   "source": [
    "Ok, this is a familiar plot with a familiar (very bad) regression. That is expected."
   ]
  },
  {
   "cell_type": "markdown",
   "id": "5ba1e875",
   "metadata": {},
   "source": [
    "## Linear reg with multiple inputs\n",
    "\n",
    "Ok, so _here_ we're actually using the normalizer we set up and \"adapted\" to the training features earlier."
   ]
  },
  {
   "cell_type": "code",
   "execution_count": 31,
   "id": "cc3ca426",
   "metadata": {},
   "outputs": [],
   "source": [
    "linear_model = tf.keras.Sequential([\n",
    "    normalizer,\n",
    "    layers.Dense(units = 1) #what does this do?\n",
    "])"
   ]
  },
  {
   "cell_type": "code",
   "execution_count": 32,
   "id": "ac4ffb29",
   "metadata": {},
   "outputs": [
    {
     "name": "stdout",
     "output_type": "stream",
     "text": [
      "1/1 [==============================] - 0s 31ms/step\n"
     ]
    },
    {
     "data": {
      "text/plain": [
       "array([[ 1.471],\n",
       "       [-0.633],\n",
       "       [-1.845],\n",
       "       [ 1.437],\n",
       "       [ 3.472],\n",
       "       [ 2.223],\n",
       "       [-1.669],\n",
       "       [ 0.057],\n",
       "       [ 3.368],\n",
       "       [-0.546]], dtype=float32)"
      ]
     },
     "execution_count": 32,
     "metadata": {},
     "output_type": "execute_result"
    }
   ],
   "source": [
    "linear_model.predict(train_features[:10])\n"
   ]
  },
  {
   "cell_type": "code",
   "execution_count": 33,
   "id": "81491770",
   "metadata": {},
   "outputs": [
    {
     "data": {
      "text/plain": [
       "<tf.Variable 'dense_1/kernel:0' shape=(2, 1) dtype=float32, numpy=\n",
       "array([[-0.911],\n",
       "       [-1.192]], dtype=float32)>"
      ]
     },
     "execution_count": 33,
     "metadata": {},
     "output_type": "execute_result"
    }
   ],
   "source": [
    "linear_model.layers[1].kernel\n"
   ]
  },
  {
   "cell_type": "code",
   "execution_count": 34,
   "id": "e194d9ca",
   "metadata": {},
   "outputs": [],
   "source": [
    "linear_model.compile(\n",
    "    optimizer=tf.keras.optimizers.Adam(learning_rate=0.1),\n",
    "    loss='mean_absolute_error')\n"
   ]
  },
  {
   "cell_type": "code",
   "execution_count": 35,
   "id": "dd24dc81",
   "metadata": {},
   "outputs": [
    {
     "name": "stdout",
     "output_type": "stream",
     "text": [
      "CPU times: user 2.48 s, sys: 201 ms, total: 2.68 s\n",
      "Wall time: 2.27 s\n"
     ]
    }
   ],
   "source": [
    "%%time\n",
    "history = linear_model.fit(\n",
    "    train_features,\n",
    "    train_labels,\n",
    "    epochs=100,\n",
    "    # Suppress logging.\n",
    "    verbose=0,\n",
    "    # Calculate validation results on 20% of the training data.\n",
    "    validation_split = 0.2)\n"
   ]
  },
  {
   "cell_type": "code",
   "execution_count": 36,
   "id": "a23461b0",
   "metadata": {},
   "outputs": [
    {
     "data": {
      "image/png": "[encoded data removed]",
      "text/plain": [
       "<Figure size 432x288 with 1 Axes>"
      ]
     },
     "metadata": {
      "needs_background": "light"
     },
     "output_type": "display_data"
    }
   ],
   "source": [
    "plot_loss(history)"
   ]
  },
  {
   "cell_type": "markdown",
   "id": "c7332ea7",
   "metadata": {},
   "source": [
    "In the example, this one does better than the single regression. Not so much for this - still bottoming out around a loss of 10.\n",
    "\n",
    "I guess this shouldn't surprise me too much.\n"
   ]
  },
  {
   "cell_type": "code",
   "execution_count": 37,
   "id": "f9bfb6e2",
   "metadata": {},
   "outputs": [],
   "source": [
    "test_results['linear_model'] = linear_model.evaluate(\n",
    "    test_features, test_labels, verbose=0)\n"
   ]
  },
  {
   "cell_type": "markdown",
   "id": "208767a9",
   "metadata": {},
   "source": [
    "## DNN\n"
   ]
  },
  {
   "cell_type": "code",
   "execution_count": 38,
   "id": "83f5db42",
   "metadata": {},
   "outputs": [],
   "source": [
    "def build_and_compile_model(norm):\n",
    "    model = keras.Sequential([\n",
    "        norm,\n",
    "        layers.Dense(64, activation = 'relu'),\n",
    "        layers.Dense(64, activation = 'relu'),\n",
    "        layers.Dense(1)\n",
    "    ])\n",
    "    \n",
    "    model.compile(loss = 'mean_absolute_error',\n",
    "                 optimizer = tf.keras.optimizers.Adam(0.001))\n",
    "    return model"
   ]
  },
  {
   "cell_type": "markdown",
   "id": "6a3911a3",
   "metadata": {},
   "source": [
    "### Single input DNN"
   ]
  },
  {
   "cell_type": "code",
   "execution_count": 39,
   "id": "37266669",
   "metadata": {},
   "outputs": [],
   "source": [
    "dnn_rich_model = build_and_compile_model(rich_normalizer)"
   ]
  },
  {
   "cell_type": "code",
   "execution_count": 40,
   "id": "0fa75a6d",
   "metadata": {},
   "outputs": [
    {
     "name": "stdout",
     "output_type": "stream",
     "text": [
      "Model: \"sequential_2\"\n",
      "_________________________________________________________________\n",
      " Layer (type)                Output Shape              Param #   \n",
      "=================================================================\n",
      " normalization_1 (Normalizat  (None, 1)                3         \n",
      " ion)                                                            \n",
      "                                                                 \n",
      " dense_2 (Dense)             (None, 64)                128       \n",
      "                                                                 \n",
      " dense_3 (Dense)             (None, 64)                4160      \n",
      "                                                                 \n",
      " dense_4 (Dense)             (None, 1)                 65        \n",
      "                                                                 \n",
      "=================================================================\n",
      "Total params: 4,356\n",
      "Trainable params: 4,353\n",
      "Non-trainable params: 3\n",
      "_________________________________________________________________\n"
     ]
    }
   ],
   "source": [
    "dnn_rich_model.summary()"
   ]
  },
  {
   "cell_type": "code",
   "execution_count": 41,
   "id": "b8dede6d",
   "metadata": {},
   "outputs": [
    {
     "name": "stdout",
     "output_type": "stream",
     "text": [
      "CPU times: user 2.86 s, sys: 248 ms, total: 3.11 s\n",
      "Wall time: 2.51 s\n"
     ]
    }
   ],
   "source": [
    "%%time\n",
    "history = dnn_rich_model.fit(\n",
    "    train_features['richness'],\n",
    "    train_labels,\n",
    "    validation_split = 0.2,\n",
    "    verbose = 0, epochs = 100)"
   ]
  },
  {
   "cell_type": "code",
   "execution_count": 42,
   "id": "5a826c4a",
   "metadata": {},
   "outputs": [
    {
     "data": {
      "image/png": "[encoded data removed]",
      "text/plain": [
       "<Figure size 432x288 with 1 Axes>"
      ]
     },
     "metadata": {
      "needs_background": "light"
     },
     "output_type": "display_data"
    }
   ],
   "source": [
    "plot_loss(history)"
   ]
  },
  {
   "cell_type": "markdown",
   "id": "dff41b5c",
   "metadata": {},
   "source": [
    "Lol, still not very good.... (this is just richness but allowed to be nonlinear, I think)"
   ]
  },
  {
   "cell_type": "code",
   "execution_count": 43,
   "id": "ca3632e7",
   "metadata": {
    "scrolled": true
   },
   "outputs": [
    {
     "name": "stdout",
     "output_type": "stream",
     "text": [
      "8/8 [==============================] - 0s 678us/step\n"
     ]
    },
    {
     "data": {
      "image/png": "[encoded data removed]",
      "text/plain": [
       "<Figure size 432x288 with 1 Axes>"
      ]
     },
     "metadata": {
      "needs_background": "light"
     },
     "output_type": "display_data"
    }
   ],
   "source": [
    "x = tf.linspace(0.0, 250, 251)\n",
    "y = dnn_rich_model.predict(x)\n",
    "plot_rich(x, y)"
   ]
  },
  {
   "cell_type": "code",
   "execution_count": 44,
   "id": "bd76ea32",
   "metadata": {},
   "outputs": [],
   "source": [
    "test_results['dnn_rich_model'] = dnn_rich_model.evaluate(\n",
    "    test_features['richness'], test_labels,\n",
    "    verbose=0)\n"
   ]
  },
  {
   "cell_type": "markdown",
   "id": "0c94d057",
   "metadata": {},
   "source": [
    "Huh, I guess maybe it's still doing a poor job fitting because it's not that it's an intriniscally/heavily weighted nonlinear relationship (as compared to, for example, the horsepower one in the example) so much as it is highly highly contingent | abundance. Meaning adding abund should make it better?\n"
   ]
  },
  {
   "cell_type": "code",
   "execution_count": 45,
   "id": "135286da",
   "metadata": {},
   "outputs": [
    {
     "name": "stdout",
     "output_type": "stream",
     "text": [
      "Model: \"sequential_3\"\n",
      "_________________________________________________________________\n",
      " Layer (type)                Output Shape              Param #   \n",
      "=================================================================\n",
      " normalization (Normalizatio  (None, 2)                5         \n",
      " n)                                                              \n",
      "                                                                 \n",
      " dense_5 (Dense)             (None, 64)                192       \n",
      "                                                                 \n",
      " dense_6 (Dense)             (None, 64)                4160      \n",
      "                                                                 \n",
      " dense_7 (Dense)             (None, 1)                 65        \n",
      "                                                                 \n",
      "=================================================================\n",
      "Total params: 4,422\n",
      "Trainable params: 4,417\n",
      "Non-trainable params: 5\n",
      "_________________________________________________________________\n"
     ]
    }
   ],
   "source": [
    "dnn_model = build_and_compile_model(normalizer)\n",
    "dnn_model.summary()\n"
   ]
  },
  {
   "cell_type": "code",
   "execution_count": 46,
   "id": "b6610aa6",
   "metadata": {},
   "outputs": [
    {
     "name": "stdout",
     "output_type": "stream",
     "text": [
      "CPU times: user 2.89 s, sys: 257 ms, total: 3.15 s\n",
      "Wall time: 2.52 s\n"
     ]
    }
   ],
   "source": [
    "%%time\n",
    "history = dnn_model.fit(\n",
    "    train_features,\n",
    "    train_labels,\n",
    "    validation_split=0.2,\n",
    "    verbose=0, epochs=100)\n"
   ]
  },
  {
   "cell_type": "code",
   "execution_count": 47,
   "id": "648113b9",
   "metadata": {},
   "outputs": [
    {
     "data": {
      "image/png": "[encoded data removed]",
      "text/plain": [
       "<Figure size 432x288 with 1 Axes>"
      ]
     },
     "metadata": {
      "needs_background": "light"
     },
     "output_type": "display_data"
    }
   ],
   "source": [
    "plot_loss(history)\n"
   ]
  },
  {
   "cell_type": "code",
   "execution_count": 48,
   "id": "17909a34",
   "metadata": {},
   "outputs": [],
   "source": [
    "test_results['dnn_model'] = dnn_model.evaluate(test_features, test_labels, verbose=0)\n"
   ]
  },
  {
   "cell_type": "code",
   "execution_count": 49,
   "id": "3eb252f7",
   "metadata": {},
   "outputs": [
    {
     "data": {
      "text/html": [
       "<div>\n",
       "<style scoped>\n",
       "    .dataframe tbody tr th:only-of-type {\n",
       "        vertical-align: middle;\n",
       "    }\n",
       "\n",
       "    .dataframe tbody tr th {\n",
       "        vertical-align: top;\n",
       "    }\n",
       "\n",
       "    .dataframe thead th {\n",
       "        text-align: right;\n",
       "    }\n",
       "</style>\n",
       "<table border=\"1\" class=\"dataframe\">\n",
       "  <thead>\n",
       "    <tr style=\"text-align: right;\">\n",
       "      <th></th>\n",
       "      <th>Mean absolute error [mean]</th>\n",
       "    </tr>\n",
       "  </thead>\n",
       "  <tbody>\n",
       "    <tr>\n",
       "      <th>rich_model</th>\n",
       "      <td>5.208059</td>\n",
       "    </tr>\n",
       "    <tr>\n",
       "      <th>linear_model</th>\n",
       "      <td>4.091767</td>\n",
       "    </tr>\n",
       "    <tr>\n",
       "      <th>dnn_rich_model</th>\n",
       "      <td>4.285070</td>\n",
       "    </tr>\n",
       "    <tr>\n",
       "      <th>dnn_model</th>\n",
       "      <td>1.145071</td>\n",
       "    </tr>\n",
       "  </tbody>\n",
       "</table>\n",
       "</div>"
      ],
      "text/plain": [
       "                Mean absolute error [mean]\n",
       "rich_model                        5.208059\n",
       "linear_model                      4.091767\n",
       "dnn_rich_model                    4.285070\n",
       "dnn_model                         1.145071"
      ]
     },
     "execution_count": 49,
     "metadata": {},
     "output_type": "execute_result"
    }
   ],
   "source": [
    "pd.DataFrame(test_results, index=['Mean absolute error [mean]']).T\n"
   ]
  },
  {
   "cell_type": "markdown",
   "id": "92f5809c",
   "metadata": {},
   "source": [
    "## Making predictions"
   ]
  },
  {
   "cell_type": "code",
   "execution_count": 54,
   "id": "c6e408e7",
   "metadata": {
    "scrolled": true
   },
   "outputs": [
    {
     "name": "stdout",
     "output_type": "stream",
     "text": [
      "4/4 [==============================] - 0s 955us/step\n"
     ]
    },
    {
     "data": {
      "image/png": "[encoded data removed]",
      "text/plain": [
       "<Figure size 432x288 with 1 Axes>"
      ]
     },
     "metadata": {
      "needs_background": "light"
     },
     "output_type": "display_data"
    }
   ],
   "source": [
    "test_predictions = dnn_model.predict(test_features).flatten()\n",
    "\n",
    "a = plt.axes(aspect='equal')\n",
    "plt.scatter(test_labels, test_predictions)\n",
    "plt.xlabel('True Values [mean]')\n",
    "plt.ylabel('Predictions [mean]')\n",
    "lims = [0, 50]\n",
    "plt.xlim(lims)\n",
    "plt.ylim(lims)\n",
    "_ = plt.plot(lims, lims)\n"
   ]
  },
  {
   "cell_type": "code",
   "execution_count": 55,
   "id": "ac0279e2",
   "metadata": {},
   "outputs": [
    {
     "data": {
      "image/png": "[encoded data removed]",
      "text/plain": [
       "<Figure size 432x288 with 1 Axes>"
      ]
     },
     "metadata": {
      "needs_background": "light"
     },
     "output_type": "display_data"
    }
   ],
   "source": [
    "error = test_predictions - test_labels\n",
    "plt.hist(error, bins=25)\n",
    "plt.xlabel('Prediction Error [mean]')\n",
    "_ = plt.ylabel('Count')\n"
   ]
  },
  {
   "cell_type": "markdown",
   "id": "022e5ec6",
   "metadata": {},
   "source": [
    "Out of curiousity, comparing this to the linear reg:"
   ]
  },
  {
   "cell_type": "code",
   "execution_count": 56,
   "id": "38969ed9",
   "metadata": {},
   "outputs": [
    {
     "name": "stdout",
     "output_type": "stream",
     "text": [
      "4/4 [==============================] - 0s 958us/step\n"
     ]
    },
    {
     "data": {
      "image/png": "[encoded data removed]",
      "text/plain": [
       "<Figure size 432x288 with 1 Axes>"
      ]
     },
     "metadata": {
      "needs_background": "light"
     },
     "output_type": "display_data"
    }
   ],
   "source": [
    "lm_test_predictions = linear_model.predict(test_features).flatten()\n",
    "\n",
    "a = plt.axes(aspect='equal')\n",
    "plt.scatter(test_labels, lm_test_predictions)\n",
    "plt.xlabel('True Values [mean]')\n",
    "plt.ylabel('Predictions [mean]')\n",
    "lims = [0, 50]\n",
    "plt.xlim(lims)\n",
    "plt.ylim(lims)\n",
    "_ = plt.plot(lims, lims)"
   ]
  },
  {
   "cell_type": "code",
   "execution_count": 57,
   "id": "275e9cce",
   "metadata": {},
   "outputs": [
    {
     "data": {
      "image/png": "[encoded data removed]",
      "text/plain": [
       "<Figure size 432x288 with 1 Axes>"
      ]
     },
     "metadata": {
      "needs_background": "light"
     },
     "output_type": "display_data"
    }
   ],
   "source": [
    "error = lm_test_predictions - test_labels\n",
    "plt.hist(error, bins=25)\n",
    "plt.xlabel('Prediction Error [mean]')\n",
    "_ = plt.ylabel('Count')\n"
   ]
  },
  {
   "cell_type": "code",
   "execution_count": null,
   "id": "6a9a8ece",
   "metadata": {},
   "outputs": [],
   "source": []
  }
 ],
 "metadata": {
  "kernelspec": {
   "display_name": "tf2",
   "language": "python",
   "name": "tf2"
  },
  "language_info": {
   "codemirror_mode": {
    "name": "ipython",
    "version": 3
   },
   "file_extension": ".py",
   "mimetype": "text/x-python",
   "name": "python",
   "nbconvert_exporter": "python",
   "pygments_lexer": "ipython3",
   "version": "3.10.10"
  }
 },
 "nbformat": 4,
 "nbformat_minor": 5
}
